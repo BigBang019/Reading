{
 "cells": [
  {
   "cell_type": "markdown",
   "metadata": {},
   "source": [
    "### Obj file\n",
    "```\n",
    "v x y z             # vertex coordinates\n",
    "vn nx ny nz         # vertex normal\n",
    "vt u v              # texture coordinates\n",
    "mtllib mtl_filename # material filename\n",
    "g ?\n",
    "f v1[/vt1/vn1] v2[/vt2/vn2] v3[/vt3/vn3]\n",
    "```\n",
    "- 纹理坐标$\\mathrm{u,v}\\in [0,1]$"
   ]
  },
  {
   "cell_type": "markdown",
   "metadata": {},
   "source": [
    "# mtl file\n",
    "```\n",
    "newmtl mtl_name\n",
    "bsdf []\n",
    "Ks ? ? ?\n",
    "map_Kd image_filename\n",
    "```"
   ]
  }
 ],
 "metadata": {
  "language_info": {
   "name": "python"
  }
 },
 "nbformat": 4,
 "nbformat_minor": 2
}
