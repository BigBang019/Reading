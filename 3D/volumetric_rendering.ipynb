{
 "cells": [
  {
   "cell_type": "markdown",
   "metadata": {},
   "source": [
    "# Takeaway\n",
    "\n",
    "体渲染的核心在于采样射线$\\{\\mathbf{p}(t)=\\mathbf{o}+t\\mathbf{v}|t\\geq 0\\}$上的点，射线的颜色为点颜色的加权和：\n",
    "$$\n",
    "C(\\mathbf{o},\\mathbf{v})=\\int_0^{+\\inf}w(t)c(\\mathbf{p}(t),\\mathbf{v})\\mathrm{d}t,\n",
    "$$\n",
    "其中$w(t)$为权重函数。\n",
    "\n",
    "在NeRF原文中，此权重函数$w(t)=T(t)\\sigma(t)$。$T(t)=\\exp(-\\int_0^t\\sigma(u)\\mathrm{d}u)$"
   ]
  }
 ],
 "metadata": {
  "language_info": {
   "name": "python"
  }
 },
 "nbformat": 4,
 "nbformat_minor": 2
}
