{
 "cells": [
  {
   "cell_type": "markdown",
   "metadata": {},
   "source": [
    "# Spherical Harmonic\n",
    "球谐函数的基：\n",
    "$$\n",
    "Y_l^m(\\theta, \\phi)=\\sqrt{\\frac{(2l+1)(l-m)!}{4\\pi(l+m)!}}P_l^m(\\cos\\theta)e^{im\\phi}\n",
    "$$\n",
    "其中\n",
    "- $l$是球谐函数的阶数\n",
    "- $|m|\\leq l$\n",
    "- $P_l^m$是缔合勒让德多项式。\n",
    "\n",
    "\n",
    "\n",
    "Spherical Harmonic用于分解球面函数$f(\\theta,\\phi)$：\n",
    "$$\n",
    "f(\\theta,\\phi)=\\sum_{l=0}^L \\sum_{m=-l}^l a_l^mY_l^m(\\theta, \\phi)\n",
    "$$\n",
    "其中$L$为我们选择的最大阶数。\n",
    "\n",
    "一阶球谐函数只包含一个基：\n",
    "$$\n",
    "Y_0^0(\\theta,\\phi)=\\sqrt{\\frac{1}{4\\pi}}\n",
    "$$\n"
   ]
  }
 ],
 "metadata": {
  "language_info": {
   "name": "python"
  }
 },
 "nbformat": 4,
 "nbformat_minor": 2
}
