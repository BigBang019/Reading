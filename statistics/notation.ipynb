{
 "cells": [
  {
   "cell_type": "markdown",
   "metadata": {},
   "source": [
    "# Statistical\n",
    "\n",
    "\n",
    "### Scalar Case\n",
    "$P_X(x)$或$P(x)$：离散随机变量$X$的PMF\n",
    "\n",
    "$p_X(x)$或$p(x)$：连续随机变量$X$的PDF\n",
    "\n",
    "$p_{X|Y}(x|y)$或$p(x|y)$：条件分布\n",
    "\n",
    "$\\mathbb{E}_{X}\\left[ g(X)\\right]$：随机变量$X$遵循分布$p(x)$的情况下$g(X)$的均值\n",
    "\n",
    "$\\mathbb{E}_{X|Y}\\left[g(X) | Y=y\\right]$：随机变量$X$在遵循分布$p(x|y)$情况下$g(X)$的均值\n",
    "\n",
    "$\\Theta, \\theta,\\hat{\\theta}$：代表参数的随机变量，参数的真实值和估计值\n",
    "\n",
    "$\\phi(x)$和$\\Phi(x)$：分别表示高斯分布的PDF和CDF\n",
    "\n",
    "### Vector Case\n",
    "\n",
    "比如采样$\\mathbf{X}=(x_1, x_2, ..., x_n)^T$\n",
    "\n",
    "$\\mathbb{E}_{\\Theta|\\mathbf{X}}\\left[g(\\Theta)|\\mathbf{X}=\\mathbf{x} \\right]$：表示在遵循分布$p(\\theta|\\mathbf{x})$情况下$g(\\Theta)$的均值。\n",
    "\n",
    "\n",
    "\n",
    "# [Machine Learning](https://nthu-datalab.github.io/ml/slides/Notation.pdf)\n",
    "\n"
   ]
  }
 ],
 "metadata": {
  "language_info": {
   "name": "python"
  }
 },
 "nbformat": 4,
 "nbformat_minor": 2
}
