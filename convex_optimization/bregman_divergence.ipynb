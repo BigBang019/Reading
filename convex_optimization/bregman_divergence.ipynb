{
 "cells": [
  {
   "cell_type": "markdown",
   "metadata": {},
   "source": [
    "# Bregman Divergence\n",
    "\n",
    "Bregman divergence定义的是特定空间里两个点的距离。\n",
    "\n",
    "Given a differentiable, strictly convex function $h:\\mathcal{M}\\mapsto \\mathbb{R}$ on a convex set $\\mathcal{M}\\subset \\mathbb{R}^n$.\n",
    "\n",
    "Bregman divergence with respect to $h$:\n",
    "$$\n",
    "D_h(y||x)=h(y)-h(x)-\\left<\\nabla h(x), y-x\\right>\n",
    "$$\n",
    "\n",
    "目前对$h$的理解是衡量一个点$x$的metrics，比如在$\\mathbb{R}^n$空间中：\n",
    "$$\n",
    "h(x)=\\lVert x\\rVert_2^2\n",
    "$$\n",
    "此时\n",
    "$$\n",
    "D_h(y||x)=\\lVert y-x\\rVert _2^2\n",
    "$$\n",
    "\n",
    "# Bregman Projection\n",
    "The Bregman Projection of point $x'$ onto convex set $\\mathcal{M}$ is:\n",
    "$$\n",
    "x^+=\\argmin_{x\\in \\mathcal{M}} D_h(x||x')\n",
    "$$\n",
    "\n",
    "# Reference\n",
    "https://www.zhihu.com/question/22426561/answer/209945856"
   ]
  }
 ],
 "metadata": {
  "language_info": {
   "name": "python"
  }
 },
 "nbformat": 4,
 "nbformat_minor": 2
}
