{
 "cells": [
  {
   "cell_type": "markdown",
   "metadata": {},
   "source": [
    "# DDPM (Unconditional)"
   ]
  },
  {
   "cell_type": "code",
   "execution_count": null,
   "metadata": {},
   "outputs": [],
   "source": [
    "from diffusers import DiffusionPipeline\n",
    "\n",
    "pipe = DiffusionPipeline.from_pretrained(\n",
    "    \"anton-l/ddpm-butterflies-128\",\n",
    "    local_files_only=True,\n",
    ").to(\"cuda\")\n",
    "image = pipe().images[0]\n",
    "image"
   ]
  },
  {
   "cell_type": "markdown",
   "metadata": {},
   "source": [
    "去噪的核心逻辑写在```diffusers.DDPMSchedulern.step```里：\n",
    "$$\n",
    "\\begin{align}\n",
    "\\tilde{\\mu}_t(x_t, x_0)&:=\\frac{\\sqrt{\\bar{\\alpha}_{t-1}}\\beta_t}{1-\\bar{\\alpha}_t}\\mathbf{x}_0+\\frac{\\sqrt{\\alpha_t}(1-\\bar{\\alpha}_{t-1})}{1-\\bar{\\alpha}_t}\\mathbf{x}_t\\\\\n",
    "x_0 &= \\frac{\\mathbf{x}_t-\\sqrt{1-\\bar{\\alpha}_t} \\epsilon_\\theta(\\mathbf{x}_t, t)}{\\sqrt{\\bar{\\alpha}_t}}\n",
    "\\end{align}\n",
    "$$\n",
    "唯一的神经网络$\\epsilon_\\theta(\\mathbf{x}_t, t)$为```diffusers.models.unet_2d.UNet2DModel```"
   ]
  },
  {
   "cell_type": "markdown",
   "metadata": {},
   "source": [
    "# Stable Diffusion"
   ]
  },
  {
   "cell_type": "code",
   "execution_count": null,
   "metadata": {},
   "outputs": [],
   "source": [
    "from diffusers import StableDiffusionPipeline\n",
    "\n",
    "if __name__ == \"__main__\":\n",
    "    sd = StableDiffusionPipeline.from_pretrained(\n",
    "        \"stabilityai/stable-diffusion-2-1-base\",\n",
    "        local_files_only=True\n",
    "    ).to('cuda')\n",
    "    image = sd(\"Astronaut in a jungle, cold color palette, muted colors, detailed, 8k\").images[0]\n",
    "    image.save('generated.png')"
   ]
  },
  {
   "cell_type": "markdown",
   "metadata": {},
   "source": [
    "去噪的核心逻辑写在```diffusers.PNDMScheduler.step```里：（没看懂https://arxiv.org/pdf/2202.09778.pdf）：\n",
    "\n",
    "神经网络$\\epsilon_\\theta(x_t, t, y)$为```diffusers.models.unet_2d_condition.UNet2DConditionModel```"
   ]
  }
 ],
 "metadata": {
  "kernelspec": {
   "display_name": "df",
   "language": "python",
   "name": "python3"
  },
  "language_info": {
   "name": "python",
   "version": "3.8.18"
  }
 },
 "nbformat": 4,
 "nbformat_minor": 2
}
